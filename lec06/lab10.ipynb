{
 "cells": [
  {
   "cell_type": "code",
   "execution_count": 1,
   "id": "initial_id",
   "metadata": {
    "collapsed": true,
    "ExecuteTime": {
     "end_time": "2023-11-10T06:02:17.526876Z",
     "start_time": "2023-11-10T06:02:16.339420Z"
    }
   },
   "outputs": [],
   "source": [
    "import numpy as np\n",
    "import scipy.stats as stats"
   ]
  },
  {
   "cell_type": "code",
   "execution_count": 12,
   "outputs": [],
   "source": [
    "def stats_ind(ds: np.ndarray, alpha: float = 0.05):\n",
    "    sum_row = np.sum(ds, axis=1).reshape((-1, 1))\n",
    "    ds = np.hstack((ds, sum_row))\n",
    "    sum_col = np.sum(ds, axis=0)\n",
    "    ds = np.vstack((ds, sum_col))\n",
    "\n",
    "    x = 0\n",
    "    i_row = ds.shape[0] - 1\n",
    "    j_col = ds.shape[1] - 1\n",
    "    for i in range(i_row + 1):\n",
    "        for j in range(j_col + 1):\n",
    "            nij = ds[i, j_col] * ds[i_row, j] / ds[-1, -1]\n",
    "            x += ((ds[i, j] - nij) ** 2) / nij\n",
    "\n",
    "    return x, 'Rejected' if x > stats.chi2.cdf(alpha, i_row * j_col) else 'Not rejected'"
   ],
   "metadata": {
    "collapsed": false,
    "ExecuteTime": {
     "end_time": "2023-11-10T06:17:30.246229Z",
     "start_time": "2023-11-10T06:17:30.243691Z"
    }
   },
   "id": "3c5d587ba3e88791"
  },
  {
   "cell_type": "code",
   "execution_count": 14,
   "outputs": [
    {
     "data": {
      "text/plain": "(5.470161631846418, 'Rejected')"
     },
     "execution_count": 14,
     "metadata": {},
     "output_type": "execute_result"
    }
   ],
   "source": [
    "data = np.array([\n",
    "    [15, 29],\n",
    "    [27, 19]\n",
    "])\n",
    "stats_ind(data, 0.01)"
   ],
   "metadata": {
    "collapsed": false,
    "ExecuteTime": {
     "end_time": "2023-11-10T06:18:14.220956Z",
     "start_time": "2023-11-10T06:18:14.218111Z"
    }
   },
   "id": "9f452505e51aca65"
  },
  {
   "cell_type": "code",
   "execution_count": 15,
   "outputs": [
    {
     "data": {
      "text/plain": "(124.52971269330236, 'Rejected')"
     },
     "execution_count": 15,
     "metadata": {},
     "output_type": "execute_result"
    }
   ],
   "source": [
    "data = np.array([\n",
    "    [162, 118, 451, 18],\n",
    "    [310, 196, 996, 25],\n",
    "    [258, 193, 458, 10],\n",
    "    [280, 175, 390, 19]\n",
    "])\n",
    "stats_ind(data, 0.01)"
   ],
   "metadata": {
    "collapsed": false,
    "ExecuteTime": {
     "end_time": "2023-11-10T06:19:27.720774Z",
     "start_time": "2023-11-10T06:19:27.716030Z"
    }
   },
   "id": "2ffef0e557ba3357"
  },
  {
   "cell_type": "code",
   "execution_count": 16,
   "outputs": [
    {
     "data": {
      "text/plain": "(14.463579015563466, 'Rejected')"
     },
     "execution_count": 16,
     "metadata": {},
     "output_type": "execute_result"
    }
   ],
   "source": [
    "data = np.array([\n",
    "    [21, 36, 30],\n",
    "    [48, 26, 19]\n",
    "])\n",
    "stats_ind(data, 0.01)"
   ],
   "metadata": {
    "collapsed": false,
    "ExecuteTime": {
     "end_time": "2023-11-10T06:20:05.810671Z",
     "start_time": "2023-11-10T06:20:05.792112Z"
    }
   },
   "id": "a799dff27d58ee89"
  }
 ],
 "metadata": {
  "kernelspec": {
   "display_name": "Python 3",
   "language": "python",
   "name": "python3"
  },
  "language_info": {
   "codemirror_mode": {
    "name": "ipython",
    "version": 2
   },
   "file_extension": ".py",
   "mimetype": "text/x-python",
   "name": "python",
   "nbconvert_exporter": "python",
   "pygments_lexer": "ipython2",
   "version": "2.7.6"
  }
 },
 "nbformat": 4,
 "nbformat_minor": 5
}
