{
 "cells": [
  {
   "cell_type": "code",
   "execution_count": 1,
   "id": "initial_id",
   "metadata": {
    "collapsed": true,
    "ExecuteTime": {
     "end_time": "2023-11-10T07:33:52.831320Z",
     "start_time": "2023-11-10T07:33:52.164016Z"
    }
   },
   "outputs": [],
   "source": [
    "import numpy as np\n",
    "import scipy.stats as stats"
   ]
  },
  {
   "cell_type": "code",
   "execution_count": 2,
   "outputs": [],
   "source": [
    "def stats_ind(ds: np.ndarray, alpha: float = 0.05):\n",
    "    sum_row = np.sum(ds, axis=1).reshape((-1, 1))\n",
    "    ds = np.hstack((ds, sum_row))\n",
    "    sum_col = np.sum(ds, axis=0)\n",
    "    ds = np.vstack((ds, sum_col))\n",
    "\n",
    "    x = 0\n",
    "    i_row = ds.shape[0] - 1\n",
    "    j_col = ds.shape[1] - 1\n",
    "    for i in range(i_row + 1):\n",
    "        for j in range(j_col + 1):\n",
    "            nij = ds[i, j_col] * ds[i_row, j] / ds[-1, -1]\n",
    "            x += ((ds[i, j] - nij) ** 2) / nij\n",
    "\n",
    "    df = (i_row - 1) * (j_col - 1)\n",
    "    p_value = 1 - stats.chi2.cdf(x, df)\n",
    "    conclusion = ('Rejected'\n",
    "                  if x > stats.chi2.ppf(1 - alpha, df)\n",
    "                  else 'Not rejected')\n",
    "\n",
    "    return x, p_value, conclusion"
   ],
   "metadata": {
    "collapsed": false,
    "ExecuteTime": {
     "end_time": "2023-11-10T07:33:52.835596Z",
     "start_time": "2023-11-10T07:33:52.833627Z"
    }
   },
   "id": "3c5d587ba3e88791"
  },
  {
   "cell_type": "markdown",
   "source": [
    "### 14.19"
   ],
   "metadata": {
    "collapsed": false
   },
   "id": "c1e69e0827cc6634"
  },
  {
   "cell_type": "code",
   "execution_count": 3,
   "outputs": [
    {
     "data": {
      "text/plain": "(5.470161631846418, 0.019343836490613553, 'Not rejected')"
     },
     "execution_count": 3,
     "metadata": {},
     "output_type": "execute_result"
    }
   ],
   "source": [
    "data = np.array([\n",
    "    [15, 29],\n",
    "    [27, 19]\n",
    "])\n",
    "stats_ind(data, 0.01)"
   ],
   "metadata": {
    "collapsed": false,
    "ExecuteTime": {
     "end_time": "2023-11-10T07:33:52.842028Z",
     "start_time": "2023-11-10T07:33:52.837503Z"
    }
   },
   "id": "9f452505e51aca65"
  },
  {
   "cell_type": "markdown",
   "source": [
    "### 14.20"
   ],
   "metadata": {
    "collapsed": false
   },
   "id": "7da222e7e7bc37ea"
  },
  {
   "cell_type": "code",
   "execution_count": 4,
   "outputs": [
    {
     "data": {
      "text/plain": "(124.52971269330236, 0.0, 'Rejected')"
     },
     "execution_count": 4,
     "metadata": {},
     "output_type": "execute_result"
    }
   ],
   "source": [
    "data = np.array([\n",
    "    [162, 118, 451, 18],\n",
    "    [310, 196, 996, 25],\n",
    "    [258, 193, 458, 10],\n",
    "    [280, 175, 390, 19]\n",
    "])\n",
    "stats_ind(data, 0.01)"
   ],
   "metadata": {
    "collapsed": false,
    "ExecuteTime": {
     "end_time": "2023-11-10T07:33:52.845504Z",
     "start_time": "2023-11-10T07:33:52.842975Z"
    }
   },
   "id": "2ffef0e557ba3357"
  },
  {
   "cell_type": "markdown",
   "source": [
    "### 14.21"
   ],
   "metadata": {
    "collapsed": false
   },
   "id": "53c886f54d2695ec"
  },
  {
   "cell_type": "code",
   "execution_count": 5,
   "outputs": [
    {
     "data": {
      "text/plain": "(14.463579015563466, 0.0007232254868159149, 'Rejected')"
     },
     "execution_count": 5,
     "metadata": {},
     "output_type": "execute_result"
    }
   ],
   "source": [
    "data = np.array([\n",
    "    [21, 36, 30],\n",
    "    [48, 26, 19]\n",
    "])\n",
    "stats_ind(data, 0.05)"
   ],
   "metadata": {
    "collapsed": false,
    "ExecuteTime": {
     "end_time": "2023-11-10T07:33:52.851462Z",
     "start_time": "2023-11-10T07:33:52.847740Z"
    }
   },
   "id": "a799dff27d58ee89"
  }
 ],
 "metadata": {
  "kernelspec": {
   "display_name": "Python 3",
   "language": "python",
   "name": "python3"
  },
  "language_info": {
   "codemirror_mode": {
    "name": "ipython",
    "version": 2
   },
   "file_extension": ".py",
   "mimetype": "text/x-python",
   "name": "python",
   "nbconvert_exporter": "python",
   "pygments_lexer": "ipython2",
   "version": "2.7.6"
  }
 },
 "nbformat": 4,
 "nbformat_minor": 5
}
