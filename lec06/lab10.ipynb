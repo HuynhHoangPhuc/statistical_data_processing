{
 "cells": [
  {
   "cell_type": "code",
   "execution_count": 11,
   "id": "initial_id",
   "metadata": {
    "collapsed": true,
    "ExecuteTime": {
     "end_time": "2023-11-10T07:55:16.884611Z",
     "start_time": "2023-11-10T07:55:16.838917Z"
    }
   },
   "outputs": [],
   "source": [
    "import numpy as np\n",
    "import scipy.stats as stats"
   ]
  },
  {
   "cell_type": "code",
   "execution_count": 12,
   "outputs": [],
   "source": [
    "def stats_ind(ds: np.ndarray, alpha: float = 0.05):\n",
    "    sum_row = np.sum(ds, axis=1).reshape((-1, 1))\n",
    "    ds = np.hstack((ds, sum_row))\n",
    "    sum_col = np.sum(ds, axis=0)\n",
    "    ds = np.vstack((ds, sum_col))\n",
    "\n",
    "    x = 0\n",
    "    i_row = ds.shape[0] - 1\n",
    "    j_col = ds.shape[1] - 1\n",
    "    for i in range(i_row + 1):\n",
    "        for j in range(j_col + 1):\n",
    "            nij = ds[i, j_col] * ds[i_row, j] / ds[-1, -1]\n",
    "            x += ((ds[i, j] - nij) ** 2) / nij\n",
    "\n",
    "    df = (i_row - 1) * (j_col - 1)\n",
    "    p_value = 1 - stats.chi2.cdf(x, df)\n",
    "    conclusion = ('Rejected'\n",
    "                  if x > stats.chi2.ppf(1 - alpha, df)\n",
    "                  else 'Not rejected')\n",
    "\n",
    "    return x, p_value, conclusion"
   ],
   "metadata": {
    "collapsed": false,
    "ExecuteTime": {
     "end_time": "2023-11-10T07:55:16.905429Z",
     "start_time": "2023-11-10T07:55:16.845418Z"
    }
   },
   "id": "3c5d587ba3e88791"
  },
  {
   "cell_type": "markdown",
   "source": [
    "### 14.19"
   ],
   "metadata": {
    "collapsed": false
   },
   "id": "c1e69e0827cc6634"
  },
  {
   "cell_type": "code",
   "execution_count": 13,
   "outputs": [
    {
     "data": {
      "text/plain": "(5.470161631846418, 0.019343836490613553, 'Not rejected')"
     },
     "execution_count": 13,
     "metadata": {},
     "output_type": "execute_result"
    }
   ],
   "source": [
    "data = np.array([\n",
    "    [15, 29],\n",
    "    [27, 19]\n",
    "])\n",
    "stats_ind(data, 0.01)"
   ],
   "metadata": {
    "collapsed": false,
    "ExecuteTime": {
     "end_time": "2023-11-10T07:55:16.906171Z",
     "start_time": "2023-11-10T07:55:16.854176Z"
    }
   },
   "id": "9f452505e51aca65"
  },
  {
   "cell_type": "markdown",
   "source": [
    "### 14.20"
   ],
   "metadata": {
    "collapsed": false
   },
   "id": "7da222e7e7bc37ea"
  },
  {
   "cell_type": "code",
   "execution_count": 14,
   "outputs": [
    {
     "data": {
      "text/plain": "(124.52971269330236, 0.0, 'Rejected')"
     },
     "execution_count": 14,
     "metadata": {},
     "output_type": "execute_result"
    }
   ],
   "source": [
    "data = np.array([\n",
    "    [162, 118, 451, 18],\n",
    "    [310, 196, 996, 25],\n",
    "    [258, 193, 458, 10],\n",
    "    [280, 175, 390, 19]\n",
    "])\n",
    "stats_ind(data, 0.01)"
   ],
   "metadata": {
    "collapsed": false,
    "ExecuteTime": {
     "end_time": "2023-11-10T07:55:16.906267Z",
     "start_time": "2023-11-10T07:55:16.860164Z"
    }
   },
   "id": "2ffef0e557ba3357"
  },
  {
   "cell_type": "markdown",
   "source": [
    "### 14.21"
   ],
   "metadata": {
    "collapsed": false
   },
   "id": "53c886f54d2695ec"
  },
  {
   "cell_type": "code",
   "execution_count": 15,
   "outputs": [
    {
     "data": {
      "text/plain": "(14.463579015563466, 0.0007232254868159149, 'Rejected')"
     },
     "execution_count": 15,
     "metadata": {},
     "output_type": "execute_result"
    }
   ],
   "source": [
    "data = np.array([\n",
    "    [21, 36, 30],\n",
    "    [48, 26, 19]\n",
    "])\n",
    "stats_ind(data, 0.05)"
   ],
   "metadata": {
    "collapsed": false,
    "ExecuteTime": {
     "end_time": "2023-11-10T07:55:16.906829Z",
     "start_time": "2023-11-10T07:55:16.865645Z"
    }
   },
   "id": "a799dff27d58ee89"
  },
  {
   "cell_type": "markdown",
   "source": [
    "### 14.3 Kiểm định Mann-Whitney trường hợp mẫu độc lập"
   ],
   "metadata": {
    "collapsed": false
   },
   "id": "f107f564d5fea67a"
  },
  {
   "cell_type": "code",
   "execution_count": 16,
   "outputs": [],
   "source": [
    "def mann_whitney(df1: np.ndarray, df2: np.ndarray) -> dict[str, int]:\n",
    "    if np.size(df1) > np.size(df2):\n",
    "        df1, df2 = df2, df1\n",
    "\n",
    "    n1 = np.size(df1)\n",
    "    n2 = np.size(df2)\n",
    "\n",
    "    merge = np.sort(np.concatenate((df1, df2)))\n",
    "    w1 = 0\n",
    "    for i, v in enumerate(merge):\n",
    "        if v in df1:\n",
    "            w1 += i\n",
    "\n",
    "    w2 = int((n1 + n2) * (n1 + n2 + 1) / 2 - w1)\n",
    "    return {'W1': w1, 'W2': w2}"
   ],
   "metadata": {
    "collapsed": false,
    "ExecuteTime": {
     "end_time": "2023-11-10T07:55:16.907340Z",
     "start_time": "2023-11-10T07:55:16.871595Z"
    }
   },
   "id": "879608c14d2ad024"
  },
  {
   "cell_type": "markdown",
   "source": [
    "#### Bài tập 14.10 \n",
    "An electrical engineer must design a circuit to deliver the maximum\n",
    "amount of current to a display tube to achieve sufficient image brightness. Within\n",
    "her allowable design constraints, she has developed two candidate circuits and tests\n",
    "prototypes of each. The resulting data (in microamperes) are as follows:\n",
    "a. Use the Wilcoxon rank-sum test to test H0 : µ1 = µ2 the alternative H1 : µ1 > µ2. Use α = 0.025.\n",
    "b. Use the normal approximation for the Wilcoxon rank-sum test. Assume that α = 0.05. Find the approximate p-value for this test statistic."
   ],
   "metadata": {
    "collapsed": false
   },
   "id": "90e24137995001d6"
  },
  {
   "cell_type": "code",
   "execution_count": 17,
   "outputs": [
    {
     "data": {
      "text/plain": "{'W1': 88, 'W2': 65}"
     },
     "execution_count": 17,
     "metadata": {},
     "output_type": "execute_result"
    }
   ],
   "source": [
    "data1 = np.array([251, 255, 258, 257, 250, 251, 254, 250, 248])\n",
    "data2 = np.array([250, 253, 249, 256, 259, 252, 260, 251])\n",
    "mann_whitney(data1, data2)"
   ],
   "metadata": {
    "collapsed": false,
    "ExecuteTime": {
     "end_time": "2023-11-10T07:55:16.907427Z",
     "start_time": "2023-11-10T07:55:16.874979Z"
    }
   },
   "id": "218ae28cd4dddb7b"
  },
  {
   "cell_type": "markdown",
   "source": [
    "#### Bài tập 14.11 \n",
    "One of the authors travels regularly to Seattle, Washington. He uses\n",
    "either Delta or Alaska airline. Flight delays are sometimes unavoidable, but he would\n",
    "be willing to give most of his business to the airline with the best on-time arrival record.\n",
    "The number of minutes that his flight arrived late for the last six trips on each airline\n",
    "follows. Is there evidence that either airline has superior on-time arrival performance?\n",
    "Use α = 0.01 and the Wilcoxon rank-sum test"
   ],
   "metadata": {
    "collapsed": false
   },
   "id": "3af645b38df32575"
  },
  {
   "cell_type": "code",
   "execution_count": 18,
   "outputs": [
    {
     "data": {
      "text/plain": "{'W1': 34, 'W2': 44}"
     },
     "execution_count": 18,
     "metadata": {},
     "output_type": "execute_result"
    }
   ],
   "source": [
    "data1 = np.array([13, 10, 1, -4, 0, 9])\n",
    "data2 = np.array([15, 8, 3, -1, -2, 4])\n",
    "mann_whitney(data1, data2)"
   ],
   "metadata": {
    "collapsed": false,
    "ExecuteTime": {
     "end_time": "2023-11-10T07:55:16.908023Z",
     "start_time": "2023-11-10T07:55:16.879072Z"
    }
   },
   "id": "6e62ccca080eb0b2"
  },
  {
   "cell_type": "markdown",
   "source": [
    "#### Bài tập 14.12 \n",
    "The manufacturer of a hot tub is interested in testing two different\n",
    "heating elements for its product. The element that produces the maximum heat gain\n",
    "after 15 minutes would be preferable. The manufacturer obtains 10 samples of each\n",
    "heating unit and tests each one. The heat gain after 15 minutes (in ◦F) follows.\n",
    "a. Is there any reason to suspect that one unit is superior to the other? Use α = 0.05\n",
    "and the Wilcoxon ranksum test.\n",
    "b. Use the normal approximation for the Wilcoxon ranksum test. Assume that α =\n",
    "0.05. What is the approximate p-value for this test statistic?"
   ],
   "metadata": {
    "collapsed": false
   },
   "id": "98606f71ee14d6a0"
  },
  {
   "cell_type": "code",
   "execution_count": 19,
   "outputs": [
    {
     "data": {
      "text/plain": "{'W1': 128, 'W2': 82}"
     },
     "execution_count": 19,
     "metadata": {},
     "output_type": "execute_result"
    }
   ],
   "source": [
    "data1 = np.array([25, 27, 29, 31, 30, 26, 24, 32, 33, 38])\n",
    "data2 = np.array([31, 33, 32, 35, 34, 29, 38, 35, 37, 30])\n",
    "mann_whitney(data1, data2)"
   ],
   "metadata": {
    "collapsed": false,
    "ExecuteTime": {
     "end_time": "2023-11-10T07:55:16.918522Z",
     "start_time": "2023-11-10T07:55:16.883322Z"
    }
   },
   "id": "d6d0e2dcad899931"
  },
  {
   "cell_type": "markdown",
   "source": [
    "#### Bài tập 14.13 \n",
    "Random samples of size n1 = 8 and n2 = 8 were selected from populations A and B, respectively. The data are given in the following table.\n",
    "a. Test for a difference in the medians of the two populations using an a α = 0.05\n",
    "Wilcoxon rank sum test.\n",
    "b. Place a 95% confidence interval on the difference in the medians of the two populations."
   ],
   "metadata": {
    "collapsed": false
   },
   "id": "f22e559c8f07c0bf"
  },
  {
   "cell_type": "code",
   "execution_count": 20,
   "outputs": [
    {
     "data": {
      "text/plain": "{'W1': 92, 'W2': 44}"
     },
     "execution_count": 20,
     "metadata": {},
     "output_type": "execute_result"
    }
   ],
   "source": [
    "data1 = np.array([4.3, 4.6, 4.7, 5.1, 5.3, 5.3, 5.8, 5.4])\n",
    "data2 = np.array([3.5, 3.8, 3.7, 3.9, 4.4, 4.7, 5.2, 4.4])\n",
    "mann_whitney(data1, data2)"
   ],
   "metadata": {
    "collapsed": false,
    "ExecuteTime": {
     "end_time": "2023-11-10T07:55:16.918695Z",
     "start_time": "2023-11-10T07:55:16.886535Z"
    }
   },
   "id": "e527b345445a6921"
  }
 ],
 "metadata": {
  "kernelspec": {
   "display_name": "Python 3",
   "language": "python",
   "name": "python3"
  },
  "language_info": {
   "codemirror_mode": {
    "name": "ipython",
    "version": 2
   },
   "file_extension": ".py",
   "mimetype": "text/x-python",
   "name": "python",
   "nbconvert_exporter": "python",
   "pygments_lexer": "ipython2",
   "version": "2.7.6"
  }
 },
 "nbformat": 4,
 "nbformat_minor": 5
}
