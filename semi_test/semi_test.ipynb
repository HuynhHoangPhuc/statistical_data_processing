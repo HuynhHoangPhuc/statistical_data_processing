{
 "cells": [
  {
   "cell_type": "markdown",
   "source": [
    "# Kiểm tra giữa kỳ"
   ],
   "metadata": {
    "collapsed": false
   },
   "id": "78dc12b684da6c4a"
  },
  {
   "cell_type": "markdown",
   "source": [
    "## Chương 14: Kiểm định phi tham số"
   ],
   "metadata": {
    "collapsed": false
   },
   "id": "b00632724f361140"
  },
  {
   "cell_type": "markdown",
   "source": [
    "### 14.1 Kiểm định dấu trường hợp mẫu "
   ],
   "metadata": {
    "collapsed": false
   },
   "id": "729e71d14cd49d4a"
  },
  {
   "cell_type": "code",
   "execution_count": 3,
   "outputs": [],
   "source": [
    "import numpy as np\n",
    "import math\n",
    "from scipy import stats"
   ],
   "metadata": {
    "collapsed": false,
    "ExecuteTime": {
     "end_time": "2023-11-03T06:09:32.080130Z",
     "start_time": "2023-11-03T06:09:32.071206Z"
    }
   },
   "id": "33d51ddcc8e16cd6"
  },
  {
   "cell_type": "code",
   "execution_count": 28,
   "outputs": [],
   "source": [
    "def stats_median(vec: np.ndarray, m0: float, level: float, kind: str = '!=') -> tuple[float, str, str]:\n",
    "    sign = vec - m0\n",
    "    sign = sign[sign != 0]\n",
    "    sign = sign > 0\n",
    "    n = np.size(sign)\n",
    "    r = sign.sum()\n",
    "    p_value = sum(math.comb(n, x) * (0.5 ** x) * ((1 - 0.5) ** (n - x)) for x in range(r, n + 1))\n",
    "\n",
    "    if kind == '<':\n",
    "        p_value = 1 - p_value\n",
    "    elif kind == '>':\n",
    "        p_value = p_value\n",
    "    else:\n",
    "        p_value = 2 * (1 - p_value) if r < n / 2 else 2 * p_value\n",
    "\n",
    "    return p_value, f'm {kind} {m0}', 'Reject' if p_value < level else 'Not reject'\n",
    "\n",
    "\n",
    "def stats_median_with_norm(vec: np.ndarray, m0: float, level: float, kind: str = '!=') -> tuple[float, str, str]:\n",
    "    sign = vec - m0\n",
    "    sign = sign[sign != 0]\n",
    "    sign = sign > 0\n",
    "    n = np.size(sign)\n",
    "    r = sign.sum()\n",
    "    z = (r - 0.5 * n) / (0.5 * math.sqrt(n))\n",
    "    p_value = stats.norm.cdf(z)\n",
    "\n",
    "    if kind == '<':\n",
    "        p_value = p_value\n",
    "    elif kind == '>':\n",
    "        p_value = 1 - p_value\n",
    "    else:\n",
    "        p_value = 2 * (1 - stats.norm.cdf(abs(z)))\n",
    "\n",
    "    return p_value, f'm {kind} {m0}', 'Reject' if p_value < level else 'Not reject'\n",
    "\n",
    "\n",
    "def test(df: np.ndarray, muy0: float, level: float, kind: str = '!=') -> None:\n",
    "    temp = df - muy0\n",
    "    temp = temp[temp != 0]\n",
    "    norm = np.size(temp) >= 10\n",
    "    print(stats_median(df, muy0, level, kind))\n",
    "    if norm:\n",
    "        print(f'With normal distribution: {stats_median_with_norm(df, muy0, level, kind)}')"
   ],
   "metadata": {
    "collapsed": false,
    "ExecuteTime": {
     "end_time": "2023-11-03T06:25:17.168156Z",
     "start_time": "2023-11-03T06:25:17.163678Z"
    }
   },
   "id": "a701b290899687d6"
  },
  {
   "cell_type": "markdown",
   "source": [
    "#### Bài tập 14.1 \n",
    "Ten samples were taken from a plating bath used in an electronics\n",
    "manufacturing process, and the bath pH of the bath was determined. The sample pH\n",
    "values are 7.91, 7.85, 6.82, 8.01, 7.46, 6.95, 7.05, 7.35, 7.25, and 7.42. Manufacturing\n",
    "engineering believes that pH has a median value of 7.0.\n",
    "a. Do the sample data indicate that this statement is correct? Use the sign test with\n",
    "α = 0.05 to investigate this hypothesis. Find the p-value for this test.\n",
    "b. Use the normal approximation for the sign test to test H0 : µ = 0.7 versus\n",
    "H1 : µ != 0.7. What is the p-value for this test?"
   ],
   "metadata": {
    "collapsed": false
   },
   "id": "e84a112016a14c41"
  },
  {
   "cell_type": "code",
   "execution_count": 29,
   "id": "initial_id",
   "metadata": {
    "collapsed": true,
    "ExecuteTime": {
     "end_time": "2023-11-03T06:25:17.656436Z",
     "start_time": "2023-11-03T06:25:17.654399Z"
    }
   },
   "outputs": [
    {
     "name": "stdout",
     "output_type": "stream",
     "text": [
      "(0.109375, 'm != 7.0', 'Not reject')\n",
      "With normal distribution: (0.05777957112359733, 'm != 7.0', 'Not reject')\n"
     ]
    }
   ],
   "source": [
    "data = np.array([7.91, 7.85, 6.82, 8.01, 7.46, 6.95, 7.05, 7.35, 7.25, 7.42])\n",
    "muy = 7.0\n",
    "alpha = 0.05\n",
    "test(data, muy, alpha)"
   ]
  },
  {
   "cell_type": "markdown",
   "source": [
    "#### Bài tập 14.2 \n",
    "The titanium content in an aircraft-grade alloy is an important determinant of strength. A sample of 20 test coupons reveals the following titanium content\n",
    "(in percent): 8.32, 8.05, 8.93, 8.65, 8.25, 8.46, 8.52, 8.35, 8.36, 8.41, 8.42, 8.30, 8.71,\n",
    "8.75, 8.60, 8.83, 8.50, 8.38, 8.29, 8.46 The median titanium content should be 8.5%.\n",
    "a. Use the sign test with α = 0.05 to investigate this hypothesis. Find the p-value\n",
    "for this test.\n",
    "b. Use the normal approximation for the sign test to test H0 : µ = 8.5 versus\n",
    "H1 : µ 6= 8.5 with α = 0.05. What is the p-value for this test?"
   ],
   "metadata": {
    "collapsed": false
   },
   "id": "45f715dac97c07ba"
  },
  {
   "cell_type": "code",
   "execution_count": 30,
   "outputs": [
    {
     "name": "stdout",
     "output_type": "stream",
     "text": [
      "(0.1670684814453125, 'm != 8.5', 'Not reject')\n",
      "With normal distribution: (0.25134910881022265, 'm != 8.5', 'Not reject')\n"
     ]
    }
   ],
   "source": [
    "data = np.array([8.32, 8.05, 8.93, 8.65, 8.25, 8.46, 8.52, 8.35, 8.36, 8.41, 8.42, 8.30, 8.71,\n",
    "                 8.75, 8.60, 8.83, 8.50, 8.38, 8.29, 8.46])\n",
    "muy = 8.5\n",
    "alpha = 0.05\n",
    "test(data, muy, alpha)"
   ],
   "metadata": {
    "collapsed": false,
    "ExecuteTime": {
     "end_time": "2023-11-03T06:25:17.938283Z",
     "start_time": "2023-11-03T06:25:17.934240Z"
    }
   },
   "id": "6f2f9a60dd399180"
  },
  {
   "cell_type": "markdown",
   "source": [
    "#### Bài tập 14.3 \n",
    "The impurity level (in ppm) is routinely measured in an intermediate\n",
    "chemical product. The following data were observed in a recent test: 2.4, 2.5, 1.7, 1.6,\n",
    "1.9, 2.6, 1.3, 1.9, 2.0, 2.5, 2.6, 2.3, 2.0, 1.8, 1.3, 1.7, 2.0, 1.9, 2.3, 1.9, 2.4, 1.6 Can you\n",
    "claim that the median impurity level is less than 2.5 ppm?\n",
    "a. State and test the appropriate hypothesis using the sign test with α = 0.05. What\n",
    "is the p-value for this test?\n",
    "b. Use the normal approximation for the sign test to test H0 : µ = 2.5 versus\n",
    "H1 : µ < 2.5 with α = 0.05. What is the p-value for this test?"
   ],
   "metadata": {
    "collapsed": false
   },
   "id": "8f19112e5b5195e8"
  },
  {
   "cell_type": "code",
   "execution_count": 31,
   "outputs": [
    {
     "name": "stdout",
     "output_type": "stream",
     "text": [
      "(2.002716064453125e-05, 'm < 2.5', 'Reject')\n",
      "With normal distribution: (0.0001733096755673334, 'm < 2.5', 'Reject')\n"
     ]
    }
   ],
   "source": [
    "data = np.array([2.4, 2.5, 1.7, 1.6, 1.9, 2.6, 1.3, 1.9, 2.0, 2.5, 2.6,\n",
    "                 2.3, 2.0, 1.8, 1.3, 1.7, 2.0, 1.9, 2.3, 1.9, 2.4, 1.6])\n",
    "muy = 2.5\n",
    "alpha = 0.05\n",
    "test(data, muy, alpha, '<')"
   ],
   "metadata": {
    "collapsed": false,
    "ExecuteTime": {
     "end_time": "2023-11-03T06:25:20.602147Z",
     "start_time": "2023-11-03T06:25:20.596727Z"
    }
   },
   "id": "a0477408fe442317"
  },
  {
   "cell_type": "markdown",
   "source": [
    "### 14.2 Kiểm định dấu - hạng Wilcoxon trường hợp mẫu cặp"
   ],
   "metadata": {
    "collapsed": false
   },
   "id": "f06b0443a281cb63"
  },
  {
   "cell_type": "code",
   "execution_count": 55,
   "outputs": [],
   "source": [
    "def wilcoxon_1_sample(df: np.ndarray, muy0: float) -> int:\n",
    "    table = []\n",
    "    for x in df:\n",
    "        if x - muy0 != 0:\n",
    "            temp = x - muy0\n",
    "            table.append((temp, temp > 0))\n",
    "\n",
    "    minus_w = 0\n",
    "    plus_w = 0\n",
    "    sort_table = sorted(table, key=lambda v: abs(v[0]))\n",
    "    for i, x in enumerate(sort_table):\n",
    "        if x[1]:\n",
    "            plus_w += i + 1\n",
    "        else:\n",
    "            minus_w += i + 1\n",
    "\n",
    "    return min(minus_w, plus_w)\n",
    "\n",
    "\n",
    "def wilcoxon_2_sample(df1: np.ndarray, df2: np.ndarray, diff: float = 0) -> int:\n",
    "    table = []\n",
    "    for x, y in zip(df1, df2):\n",
    "        if x - y - diff != 0:\n",
    "            temp = x - y\n",
    "            table.append((temp, temp > 0))\n",
    "\n",
    "    minus_w = 0\n",
    "    plus_w = 0\n",
    "    sort_table = sorted(table, key=lambda v: abs(v[0]))\n",
    "    for i, x in enumerate(sort_table):\n",
    "        if x[1]:\n",
    "            plus_w += i + 1\n",
    "        else:\n",
    "            minus_w += i + 1\n",
    "\n",
    "    return min(minus_w, plus_w)"
   ],
   "metadata": {
    "collapsed": false,
    "ExecuteTime": {
     "end_time": "2023-11-03T07:12:55.431727Z",
     "start_time": "2023-11-03T07:12:55.431039Z"
    }
   },
   "id": "529c3b3923656c43"
  },
  {
   "cell_type": "markdown",
   "source": [
    "#### Bài tập 14.4 \n",
    "An inspector are measured the diameter of a ball bearing using a new\n",
    "type of caliper. The results were as follows (in mm): 0.265, 0.263, 0.266, 0.267, 0.267,\n",
    "0.265, 0.267,0.267, 0.265, 0.268, 0.268, and 0.263.\n",
    "a. Use the Wilcoxon signed-rank test to evaluate the claim that the mean ball diameter is 0.265 mm. Use α = 0.05.\n",
    "b. Use the normal approximation for the test. With α = 0.05, what conclusions can\n",
    "you draw?"
   ],
   "metadata": {
    "collapsed": false
   },
   "id": "ea6ab5a3dabfa31"
  },
  {
   "cell_type": "code",
   "execution_count": 51,
   "outputs": [
    {
     "name": "stdout",
     "output_type": "stream",
     "text": [
      "9\n",
      "(0.1796875, 'm != 0.265', 'Not reject')\n"
     ]
    }
   ],
   "source": [
    "data = np.array([0.265, 0.263, 0.266, 0.267, 0.267, 0.265,\n",
    "                 0.267, 0.267, 0.265, 0.268, 0.268, 0.263])\n",
    "muy = 0.265\n",
    "alpha = 0.05\n",
    "print(wilcoxon_1_sample(data, muy))\n",
    "test(data, muy, alpha)"
   ],
   "metadata": {
    "collapsed": false,
    "ExecuteTime": {
     "end_time": "2023-11-03T07:05:36.930643Z",
     "start_time": "2023-11-03T07:05:36.928320Z"
    }
   },
   "id": "7451270a025ac35f"
  },
  {
   "cell_type": "markdown",
   "source": [
    "#### Bài tập 14.5 \n",
    "A new type of tip can be used in a Rockwell hardness tester. Eight\n",
    "coupons from test ingots of a nickelbased alloy are selected, and each coupon is tested\n",
    "using the new tip. The Rockwell C-scale hardness readings are 63, 65, 58, 60, 55, 57,\n",
    "53, and 59. Do the results support the claim that the mean hardness exceeds 60 at a\n",
    "0.05 level?"
   ],
   "metadata": {
    "collapsed": false
   },
   "id": "16cf0d1b58f00cab"
  },
  {
   "cell_type": "code",
   "execution_count": 52,
   "outputs": [
    {
     "data": {
      "text/plain": "8"
     },
     "execution_count": 52,
     "metadata": {},
     "output_type": "execute_result"
    }
   ],
   "source": [
    "data = np.array([63, 65, 58, 60, 55, 57, 53, 59])\n",
    "muy = 60\n",
    "wilcoxon_1_sample(data, muy)"
   ],
   "metadata": {
    "collapsed": false,
    "ExecuteTime": {
     "end_time": "2023-11-03T07:06:38.427555Z",
     "start_time": "2023-11-03T07:06:38.421629Z"
    }
   },
   "id": "7ac788443fd2567"
  },
  {
   "cell_type": "markdown",
   "source": [
    "#### Bài tập 14.6 \n",
    "A primer paint can be used on aluminum panels. The primer’s drying\n",
    "time is an important consideration in the manufacturing process. Twenty panels are\n",
    "selected, and the drying times are as follows: 1.6, 1.3, 1.5, 1.6, 1.7, 1.9, 1.8, 1.6, 1.4,\n",
    "1.8, 1.9, 1.8, 1.7, 1.5, 1.6, 1.4, 1.3, 1.6, 1.5, and 1.8. Is there evidence that the mean\n",
    "drying time of the primer exceeds 1.5 hr?"
   ],
   "metadata": {
    "collapsed": false
   },
   "id": "cef7718017395f04"
  },
  {
   "cell_type": "code",
   "execution_count": 53,
   "outputs": [
    {
     "data": {
      "text/plain": "29"
     },
     "execution_count": 53,
     "metadata": {},
     "output_type": "execute_result"
    }
   ],
   "source": [
    "data = np.array([1.6, 1.3, 1.5, 1.6, 1.7, 1.9, 1.8, 1.6, 1.4, 1.8,\n",
    "                 1.9, 1.8, 1.7, 1.5, 1.6, 1.4, 1.3, 1.6, 1.5, 1.8])\n",
    "muy = 1.5\n",
    "wilcoxon_1_sample(data, muy)"
   ],
   "metadata": {
    "collapsed": false,
    "ExecuteTime": {
     "end_time": "2023-11-03T07:07:35.119983Z",
     "start_time": "2023-11-03T07:07:35.096124Z"
    }
   },
   "id": "431c9f1441b2331"
  },
  {
   "cell_type": "markdown",
   "source": [
    "#### Bài tập 14.7 \n",
    "A random sample of eight pairs of twins were randomly assigned to\n",
    "treatment A or treatment B. The data are given in the following table.\n",
    "Is there significant evidence that the two treatments differ using an a α = 0.05 Wilcoxon\n",
    "signed-rank test."
   ],
   "metadata": {
    "collapsed": false
   },
   "id": "a8497c12409b494f"
  },
  {
   "cell_type": "code",
   "execution_count": 56,
   "outputs": [
    {
     "data": {
      "text/plain": "16"
     },
     "execution_count": 56,
     "metadata": {},
     "output_type": "execute_result"
    }
   ],
   "source": [
    "data1 = np.array([48.3, 44.6, 49.7, 40.5, 54.3, 55.6, 45.8, 35.4])\n",
    "data2 = np.array([43.5, 43, 8, 53.7, 43.9, 54.4, 54.7, 45.2, 34.4])\n",
    "wilcoxon_2_sample(data1, data2)"
   ],
   "metadata": {
    "collapsed": false,
    "ExecuteTime": {
     "end_time": "2023-11-03T07:12:57.528521Z",
     "start_time": "2023-11-03T07:12:57.522567Z"
    }
   },
   "id": "6e3b1e1270b3e442"
  },
  {
   "cell_type": "markdown",
   "source": [
    "#### Bài tập 14.8 \n",
    "A study was conducted to determine whether automobile repair charges\n",
    "are higher for female customers than for male customers. Twenty auto repair shops\n",
    "were randomly selected from the telephone book. Two cars of the same age, brand,\n",
    "and engine problem were used in the study. For each repair shop, the two cars were\n",
    "randomly assigned to a man and woman participant and then taken to the shop for an\n",
    "estimate of repair cost. The repair costs (in dollars) are given here.\n",
    "a. Which procedure, t or Wilcoxon, is more appropriate in this situation? Why?\n",
    "b. Are repair costs generally higher for female customers than for male customers?\n",
    "Use a α = 0.05."
   ],
   "metadata": {
    "collapsed": false
   },
   "id": "203a0839822ed907"
  },
  {
   "cell_type": "code",
   "execution_count": 57,
   "outputs": [
    {
     "data": {
      "text/plain": "18"
     },
     "execution_count": 57,
     "metadata": {},
     "output_type": "execute_result"
    }
   ],
   "source": [
    "data1 = np.array(\n",
    "    [871, 648, 795, 838, 1033, 917, 1047, 723, 1179, 707, 817, 846, 975, 868, 1323, 791, 1157, 932, 1089, 770])\n",
    "data2 = np.array([792, 765, 611, 520, 618, 447, 548, 720, 899, 788, 927, 657, 851, 702, 918, 528, 884, 702, 839, 878])\n",
    "wilcoxon_2_sample(data1, data2)"
   ],
   "metadata": {
    "collapsed": false,
    "ExecuteTime": {
     "end_time": "2023-11-03T07:15:52.239161Z",
     "start_time": "2023-11-03T07:15:52.236831Z"
    }
   },
   "id": "2d96904bc29d1406"
  },
  {
   "cell_type": "markdown",
   "source": [
    "#### Bài tập 14.9 \n",
    "The effect of Benzedrine on the heart rate of dogs (in beats per minute)\n",
    "was examined in an experiment on 14 dogs chosen for the study. Each dog was to serve\n",
    "as its own control, with half of the dogs assigned to receive Benzedrine during the first\n",
    "study period and the other half assigned to receive a placebo (saline solution). All dogs\n",
    "were examined to determine the heart rates after 2 hours on the medication. After 2\n",
    "weeks in which no medication was given, the regimens for the dogs were switched for\n",
    "the second study period. The dogs previously on Benzedrine were given the placebo,\n",
    "and the others received Benzedrine. Again, heart rates were measured after 2 hours.\n",
    "The following sample data are not arranged in the order in which they were taken but\n",
    "have been summarized by regimen. Use these data to test the research hypothesis that\n",
    "the distribution of heart rates for the dogs when receiving Benzedrine is shifted to the\n",
    "right of that for the same animals when on the placebo. Use a one-tailed Wilcoxon\n",
    "signed-rank test with a α = 0.05."
   ],
   "metadata": {
    "collapsed": false
   },
   "id": "5fbd98f161c665f"
  },
  {
   "cell_type": "code",
   "execution_count": 58,
   "outputs": [
    {
     "data": {
      "text/plain": "16"
     },
     "execution_count": 58,
     "metadata": {},
     "output_type": "execute_result"
    }
   ],
   "source": [
    "data1 = np.array([250, 271, 243, 252, 266, 272, 293, 296, 301, 298, 310, 286, 306, 309])\n",
    "data2 = np.array([258, 285, 245, 250, 268, 278, 280, 305, 319, 308, 320, 293, 305, 313])\n",
    "wilcoxon_2_sample(data1, data2)"
   ],
   "metadata": {
    "collapsed": false,
    "ExecuteTime": {
     "end_time": "2023-11-03T07:17:31.355892Z",
     "start_time": "2023-11-03T07:17:31.353807Z"
    }
   },
   "id": "1058562c23f4aff6"
  },
  {
   "cell_type": "markdown",
   "source": [
    "### 14.3 Kiểm định Mann-Whitney trường hợp mẫu độc lập"
   ],
   "metadata": {
    "collapsed": false
   },
   "id": "c85e42b6c4345f98"
  },
  {
   "cell_type": "code",
   "execution_count": 63,
   "outputs": [],
   "source": [
    "def mann_whitney(df1: np.ndarray, df2: np.ndarray) -> dict[str, int]:\n",
    "    if np.size(df1) > np.size(df2):\n",
    "        df1, df2 = df2, df1\n",
    "\n",
    "    n1 = np.size(df1)\n",
    "    n2 = np.size(df2)\n",
    "\n",
    "    merge = np.sort(np.concatenate((df1, df2)))\n",
    "    w1 = 0\n",
    "    for i, v in enumerate(merge):\n",
    "        if v in df1:\n",
    "            w1 += i\n",
    "\n",
    "    w2 = int((n1 + n2) * (n1 + n2 + 1) / 2 - w1)\n",
    "    return {'W1': w1, 'W2': w2}"
   ],
   "metadata": {
    "collapsed": false,
    "ExecuteTime": {
     "end_time": "2023-11-03T07:29:33.820752Z",
     "start_time": "2023-11-03T07:29:33.816783Z"
    }
   },
   "id": "386bdf0dd29ae98c"
  },
  {
   "cell_type": "markdown",
   "source": [
    "#### Bài tập 14.10 \n",
    "An electrical engineer must design a circuit to deliver the maximum\n",
    "amount of current to a display tube to achieve sufficient image brightness. Within\n",
    "her allowable design constraints, she has developed two candidate circuits and tests\n",
    "prototypes of each. The resulting data (in microamperes) are as follows:\n",
    "a. Use the Wilcoxon rank-sum test to test H0 : µ1 = µ2 the alternative H1 : µ1 > µ2. Use α = 0.025.\n",
    "b. Use the normal approximation for the Wilcoxon rank-sum test. Assume that α = 0.05. Find the approximate p-value for this test statistic."
   ],
   "metadata": {
    "collapsed": false
   },
   "id": "37bb4504eddf35ec"
  },
  {
   "cell_type": "code",
   "execution_count": 66,
   "outputs": [
    {
     "data": {
      "text/plain": "{'W1': 88, 'W2': 65}"
     },
     "execution_count": 66,
     "metadata": {},
     "output_type": "execute_result"
    }
   ],
   "source": [
    "data1 = np.array([251, 255, 258, 257, 250, 251, 254, 250, 248])\n",
    "data2 = np.array([250, 253, 249, 256, 259, 252, 260, 251])\n",
    "mann_whitney(data1, data2)"
   ],
   "metadata": {
    "collapsed": false,
    "ExecuteTime": {
     "end_time": "2023-11-03T07:31:57.932660Z",
     "start_time": "2023-11-03T07:31:57.927760Z"
    }
   },
   "id": "2d9c97e3644b6cff"
  },
  {
   "cell_type": "markdown",
   "source": [
    "#### Bài tập 14.11 \n",
    "One of the authors travels regularly to Seattle, Washington. He uses\n",
    "either Delta or Alaska airline. Flight delays are sometimes unavoidable, but he would\n",
    "be willing to give most of his business to the airline with the best on-time arrival record.\n",
    "The number of minutes that his flight arrived late for the last six trips on each airline\n",
    "follows. Is there evidence that either airline has superior on-time arrival performance?\n",
    "Use α = 0.01 and the Wilcoxon rank-sum test"
   ],
   "metadata": {
    "collapsed": false
   },
   "id": "823c497977fbdd9b"
  },
  {
   "cell_type": "code",
   "execution_count": 67,
   "outputs": [
    {
     "data": {
      "text/plain": "{'W1': 34, 'W2': 44}"
     },
     "execution_count": 67,
     "metadata": {},
     "output_type": "execute_result"
    }
   ],
   "source": [
    "data1 = np.array([13, 10, 1, -4, 0, 9])\n",
    "data2 = np.array([15, 8, 3, -1, -2, 4])\n",
    "mann_whitney(data1, data2)"
   ],
   "metadata": {
    "collapsed": false,
    "ExecuteTime": {
     "end_time": "2023-11-03T07:32:06.229011Z",
     "start_time": "2023-11-03T07:32:06.192290Z"
    }
   },
   "id": "26183022d0005ea1"
  },
  {
   "cell_type": "markdown",
   "source": [
    "#### Bài tập 14.12 \n",
    "The manufacturer of a hot tub is interested in testing two different\n",
    "heating elements for its product. The element that produces the maximum heat gain\n",
    "after 15 minutes would be preferable. The manufacturer obtains 10 samples of each\n",
    "heating unit and tests each one. The heat gain after 15 minutes (in ◦F) follows.\n",
    "a. Is there any reason to suspect that one unit is superior to the other? Use α = 0.05\n",
    "and the Wilcoxon ranksum test.\n",
    "b. Use the normal approximation for the Wilcoxon ranksum test. Assume that α =\n",
    "0.05. What is the approximate p-value for this test statistic?"
   ],
   "metadata": {
    "collapsed": false
   },
   "id": "b02d2c42f10011aa"
  },
  {
   "cell_type": "code",
   "execution_count": 68,
   "outputs": [
    {
     "data": {
      "text/plain": "{'W1': 128, 'W2': 82}"
     },
     "execution_count": 68,
     "metadata": {},
     "output_type": "execute_result"
    }
   ],
   "source": [
    "data1 = np.array([25, 27, 29, 31, 30, 26, 24, 32, 33, 38])\n",
    "data2 = np.array([31, 33, 32, 35, 34, 29, 38, 35, 37, 30])\n",
    "mann_whitney(data1, data2)"
   ],
   "metadata": {
    "collapsed": false,
    "ExecuteTime": {
     "end_time": "2023-11-03T07:33:13.651400Z",
     "start_time": "2023-11-03T07:33:13.644022Z"
    }
   },
   "id": "64463e835ef2439"
  },
  {
   "cell_type": "markdown",
   "source": [
    "#### Bài tập 14.13 \n",
    "Random samples of size n1 = 8 and n2 = 8 were selected from populations A and B, respectively. The data are given in the following table.\n",
    "a. Test for a difference in the medians of the two populations using an a α = 0.05\n",
    "Wilcoxon rank sum test.\n",
    "b. Place a 95% confidence interval on the difference in the medians of the two populations."
   ],
   "metadata": {
    "collapsed": false
   },
   "id": "ae55f234d00adf0b"
  },
  {
   "cell_type": "code",
   "execution_count": 69,
   "outputs": [
    {
     "data": {
      "text/plain": "{'W1': 92, 'W2': 44}"
     },
     "execution_count": 69,
     "metadata": {},
     "output_type": "execute_result"
    }
   ],
   "source": [
    "data1 = np.array([4.3, 4.6, 4.7, 5.1, 5.3, 5.3, 5.8, 5.4])\n",
    "data2 = np.array([3.5, 3.8, 3.7, 3.9, 4.4, 4.7, 5.2, 4.4])\n",
    "mann_whitney(data1, data2)"
   ],
   "metadata": {
    "collapsed": false,
    "ExecuteTime": {
     "end_time": "2023-11-03T07:34:47.450789Z",
     "start_time": "2023-11-03T07:34:47.448892Z"
    }
   },
   "id": "f89b824af6e6fc2e"
  }
 ],
 "metadata": {
  "kernelspec": {
   "display_name": "Python 3",
   "language": "python",
   "name": "python3"
  },
  "language_info": {
   "codemirror_mode": {
    "name": "ipython",
    "version": 2
   },
   "file_extension": ".py",
   "mimetype": "text/x-python",
   "name": "python",
   "nbconvert_exporter": "python",
   "pygments_lexer": "ipython2",
   "version": "2.7.6"
  }
 },
 "nbformat": 4,
 "nbformat_minor": 5
}
