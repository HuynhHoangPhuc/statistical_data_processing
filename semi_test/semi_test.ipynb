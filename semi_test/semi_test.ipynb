{
 "cells": [
  {
   "cell_type": "markdown",
   "source": [
    "# Kiểm tra giữa kỳ"
   ],
   "metadata": {
    "collapsed": false
   },
   "id": "78dc12b684da6c4a"
  },
  {
   "cell_type": "markdown",
   "source": [
    "## Chương 14: Kiểm định phi tham số"
   ],
   "metadata": {
    "collapsed": false
   },
   "id": "b00632724f361140"
  },
  {
   "cell_type": "markdown",
   "source": [
    "### 14.1 Kiểm định dấu trường hợp mẫu "
   ],
   "metadata": {
    "collapsed": false
   },
   "id": "729e71d14cd49d4a"
  },
  {
   "cell_type": "code",
   "execution_count": 3,
   "outputs": [],
   "source": [
    "import numpy as np\n",
    "import math\n",
    "from scipy import stats"
   ],
   "metadata": {
    "collapsed": false,
    "ExecuteTime": {
     "end_time": "2023-11-03T06:09:32.080130Z",
     "start_time": "2023-11-03T06:09:32.071206Z"
    }
   },
   "id": "33d51ddcc8e16cd6"
  },
  {
   "cell_type": "code",
   "execution_count": 28,
   "outputs": [],
   "source": [
    "def stats_median(vec: np.ndarray, m0: float, level: float, kind: str = '!=') -> tuple[float, str, str]:\n",
    "    sign = vec - m0\n",
    "    sign = sign[sign != 0]\n",
    "    sign = sign > 0\n",
    "    n = np.size(sign)\n",
    "    r = sign.sum()\n",
    "    p_value = sum(math.comb(n, x) * (0.5 ** x) * ((1 - 0.5) ** (n - x)) for x in range(r, n + 1))\n",
    "\n",
    "    if kind == '<':\n",
    "        p_value = 1 - p_value\n",
    "    elif kind == '>':\n",
    "        p_value = p_value\n",
    "    else:\n",
    "        p_value = 2 * (1 - p_value) if r < n / 2 else 2 * p_value\n",
    "\n",
    "    return p_value, f'm {kind} {m0}', 'Reject' if p_value < level else 'Not reject'\n",
    "\n",
    "\n",
    "def stats_median_with_norm(vec: np.ndarray, m0: float, level: float, kind: str = '!=') -> tuple[float, str, str]:\n",
    "    sign = vec - m0\n",
    "    sign = sign[sign != 0]\n",
    "    sign = sign > 0\n",
    "    n = np.size(sign)\n",
    "    r = sign.sum()\n",
    "    z = (r - 0.5 * n) / (0.5 * math.sqrt(n))\n",
    "    p_value = stats.norm.cdf(z)\n",
    "\n",
    "    if kind == '<':\n",
    "        p_value = p_value\n",
    "    elif kind == '>':\n",
    "        p_value = 1 - p_value\n",
    "    else:\n",
    "        p_value = 2 * (1 - stats.norm.cdf(abs(z)))\n",
    "\n",
    "    return p_value, f'm {kind} {m0}', 'Reject' if p_value < level else 'Not reject'\n",
    "\n",
    "\n",
    "def test(df: np.ndarray, muy0: float, level: float, kind: str = '!=') -> None:\n",
    "    temp = df - muy0\n",
    "    temp = temp[temp != 0]\n",
    "    norm = np.size(temp) >= 10\n",
    "    print(stats_median(df, muy0, level, kind))\n",
    "    if norm:\n",
    "        print(f'With normal distribution: {stats_median_with_norm(df, muy0, level, kind)}')"
   ],
   "metadata": {
    "collapsed": false,
    "ExecuteTime": {
     "end_time": "2023-11-03T06:25:17.168156Z",
     "start_time": "2023-11-03T06:25:17.163678Z"
    }
   },
   "id": "a701b290899687d6"
  },
  {
   "cell_type": "markdown",
   "source": [
    "#### Bài tập 14.1 \n",
    "Ten samples were taken from a plating bath used in an electronics\n",
    "manufacturing process, and the bath pH of the bath was determined. The sample pH\n",
    "values are 7.91, 7.85, 6.82, 8.01, 7.46, 6.95, 7.05, 7.35, 7.25, and 7.42. Manufacturing\n",
    "engineering believes that pH has a median value of 7.0.\n",
    "a. Do the sample data indicate that this statement is correct? Use the sign test with\n",
    "α = 0.05 to investigate this hypothesis. Find the p-value for this test.\n",
    "b. Use the normal approximation for the sign test to test H0 : µ = 0.7 versus\n",
    "H1 : µ != 0.7. What is the p-value for this test?"
   ],
   "metadata": {
    "collapsed": false
   },
   "id": "e84a112016a14c41"
  },
  {
   "cell_type": "code",
   "execution_count": 29,
   "id": "initial_id",
   "metadata": {
    "collapsed": true,
    "ExecuteTime": {
     "end_time": "2023-11-03T06:25:17.656436Z",
     "start_time": "2023-11-03T06:25:17.654399Z"
    }
   },
   "outputs": [
    {
     "name": "stdout",
     "output_type": "stream",
     "text": [
      "(0.109375, 'm != 7.0', 'Not reject')\n",
      "With normal distribution: (0.05777957112359733, 'm != 7.0', 'Not reject')\n"
     ]
    }
   ],
   "source": [
    "data = np.array([7.91, 7.85, 6.82, 8.01, 7.46, 6.95, 7.05, 7.35, 7.25, 7.42])\n",
    "muy = 7.0\n",
    "alpha = 0.05\n",
    "test(data, muy, alpha)"
   ]
  },
  {
   "cell_type": "markdown",
   "source": [
    "#### Bài tập 14.2 \n",
    "The titanium content in an aircraft-grade alloy is an important determinant of strength. A sample of 20 test coupons reveals the following titanium content\n",
    "(in percent): 8.32, 8.05, 8.93, 8.65, 8.25, 8.46, 8.52, 8.35, 8.36, 8.41, 8.42, 8.30, 8.71,\n",
    "8.75, 8.60, 8.83, 8.50, 8.38, 8.29, 8.46 The median titanium content should be 8.5%.\n",
    "a. Use the sign test with α = 0.05 to investigate this hypothesis. Find the p-value\n",
    "for this test.\n",
    "b. Use the normal approximation for the sign test to test H0 : µ = 8.5 versus\n",
    "H1 : µ 6= 8.5 with α = 0.05. What is the p-value for this test?"
   ],
   "metadata": {
    "collapsed": false
   },
   "id": "45f715dac97c07ba"
  },
  {
   "cell_type": "code",
   "execution_count": 30,
   "outputs": [
    {
     "name": "stdout",
     "output_type": "stream",
     "text": [
      "(0.1670684814453125, 'm != 8.5', 'Not reject')\n",
      "With normal distribution: (0.25134910881022265, 'm != 8.5', 'Not reject')\n"
     ]
    }
   ],
   "source": [
    "data = np.array([8.32, 8.05, 8.93, 8.65, 8.25, 8.46, 8.52, 8.35, 8.36, 8.41, 8.42, 8.30, 8.71,\n",
    "                 8.75, 8.60, 8.83, 8.50, 8.38, 8.29, 8.46])\n",
    "muy = 8.5\n",
    "alpha = 0.05\n",
    "test(data, muy, alpha)"
   ],
   "metadata": {
    "collapsed": false,
    "ExecuteTime": {
     "end_time": "2023-11-03T06:25:17.938283Z",
     "start_time": "2023-11-03T06:25:17.934240Z"
    }
   },
   "id": "6f2f9a60dd399180"
  },
  {
   "cell_type": "markdown",
   "source": [
    "#### Bài tập 14.3 \n",
    "The impurity level (in ppm) is routinely measured in an intermediate\n",
    "chemical product. The following data were observed in a recent test: 2.4, 2.5, 1.7, 1.6,\n",
    "1.9, 2.6, 1.3, 1.9, 2.0, 2.5, 2.6, 2.3, 2.0, 1.8, 1.3, 1.7, 2.0, 1.9, 2.3, 1.9, 2.4, 1.6 Can you\n",
    "claim that the median impurity level is less than 2.5 ppm?\n",
    "a. State and test the appropriate hypothesis using the sign test with α = 0.05. What\n",
    "is the p-value for this test?\n",
    "b. Use the normal approximation for the sign test to test H0 : µ = 2.5 versus\n",
    "H1 : µ < 2.5 with α = 0.05. What is the p-value for this test?"
   ],
   "metadata": {
    "collapsed": false
   },
   "id": "8f19112e5b5195e8"
  },
  {
   "cell_type": "code",
   "execution_count": 31,
   "outputs": [
    {
     "name": "stdout",
     "output_type": "stream",
     "text": [
      "(2.002716064453125e-05, 'm < 2.5', 'Reject')\n",
      "With normal distribution: (0.0001733096755673334, 'm < 2.5', 'Reject')\n"
     ]
    }
   ],
   "source": [
    "data = np.array([2.4, 2.5, 1.7, 1.6, 1.9, 2.6, 1.3, 1.9, 2.0, 2.5, 2.6,\n",
    "                 2.3, 2.0, 1.8, 1.3, 1.7, 2.0, 1.9, 2.3, 1.9, 2.4, 1.6])\n",
    "muy = 2.5\n",
    "alpha = 0.05\n",
    "test(data, muy, alpha, '<')"
   ],
   "metadata": {
    "collapsed": false,
    "ExecuteTime": {
     "end_time": "2023-11-03T06:25:20.602147Z",
     "start_time": "2023-11-03T06:25:20.596727Z"
    }
   },
   "id": "a0477408fe442317"
  },
  {
   "cell_type": "markdown",
   "source": [
    "### 14.2 Kiểm định dấu - hạng Wilcoxon trường hợp mẫu cặp"
   ],
   "metadata": {
    "collapsed": false
   },
   "id": "f06b0443a281cb63"
  },
  {
   "cell_type": "markdown",
   "source": [
    "#### Bài tập 14.4 \n",
    "An inspector are measured the diameter of a ball bearing using a new\n",
    "type of caliper. The results were as follows (in mm): 0.265, 0.263, 0.266, 0.267, 0.267,\n",
    "0.265, 0.267,0.267, 0.265, 0.268, 0.268, and 0.263.\n",
    "a. Use the Wilcoxon signed-rank test to evaluate the claim that the mean ball diameter is 0.265 mm. Use α = 0.05.\n",
    "b. Use the normal approximation for the test. With α = 0.05, what conclusions can\n",
    "you draw?"
   ],
   "metadata": {
    "collapsed": false
   },
   "id": "ea6ab5a3dabfa31"
  },
  {
   "cell_type": "code",
   "execution_count": null,
   "outputs": [],
   "source": [],
   "metadata": {
    "collapsed": false
   },
   "id": "7451270a025ac35f"
  }
 ],
 "metadata": {
  "kernelspec": {
   "display_name": "Python 3",
   "language": "python",
   "name": "python3"
  },
  "language_info": {
   "codemirror_mode": {
    "name": "ipython",
    "version": 2
   },
   "file_extension": ".py",
   "mimetype": "text/x-python",
   "name": "python",
   "nbconvert_exporter": "python",
   "pygments_lexer": "ipython2",
   "version": "2.7.6"
  }
 },
 "nbformat": 4,
 "nbformat_minor": 5
}
